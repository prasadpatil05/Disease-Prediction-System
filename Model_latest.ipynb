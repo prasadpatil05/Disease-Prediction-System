{
  "cells": [
    {
      "cell_type": "markdown",
      "metadata": {
        "colab_type": "text",
        "id": "GpY-ArzB1rH-"
      },
      "source": [
        "*Models classifier applied on the dataset and it contains the accuracy comparison plot*"
      ]
    },
    {
      "cell_type": "code",
      "execution_count": 16,
      "metadata": {
        "colab": {},
        "colab_type": "code",
        "id": "lEsjGGNblruf"
      },
      "outputs": [],
      "source": [
        "import warnings\n",
        "from decimal import Decimal\n",
        "import pandas as pd\n",
        "from sklearn.tree import DecisionTreeClassifier\n",
        "from sklearn.linear_model import LogisticRegression\n",
        "from sklearn.svm import SVC\n",
        "from sklearn.metrics import accuracy_score\n",
        "from sklearn.model_selection import train_test_split, cross_val_score\n",
        "import matplotlib.pyplot as plt\n",
        "warnings.simplefilter(\"ignore\")"
      ]
    },
    {
      "cell_type": "code",
      "execution_count": 17,
      "metadata": {
        "colab": {},
        "colab_type": "code",
        "id": "xTIhMk1Ilz7O"
      },
      "outputs": [],
      "source": [
        "df_comb = pd.read_csv(\"Dataset/dis_sym_dataset_comb.csv\")\n",
        "\n",
        "# creation of features and label for training the models\n",
        "X = df_comb.iloc[:, 1:]\n",
        "Y = df_comb.iloc[:, 0:1]"
      ]
    },
    {
      "cell_type": "markdown",
      "metadata": {
        "colab_type": "text",
        "id": "wB98cbQc3kX1"
      },
      "source": [
        "*Train Test Split*"
      ]
    },
    {
      "cell_type": "code",
      "execution_count": 18,
      "metadata": {
        "colab": {},
        "colab_type": "code",
        "id": "43edxNr-l37s"
      },
      "outputs": [],
      "source": [
        "# splitting data for training the classifiers and testing\n",
        "x_train, x_test, y_train, y_test = train_test_split(X, Y, test_size=0.10)"
      ]
    },
    {
      "cell_type": "code",
      "execution_count": 19,
      "metadata": {
        "colab": {},
        "colab_type": "code",
        "id": "NFWxSoKRl6iU"
      },
      "outputs": [],
      "source": [
        "# lists used for accuracy plotting\n",
        "accuracy_list = []\n",
        "cross_accuracy_list = []\n",
        "model_list = []"
      ]
    },
    {
      "cell_type": "markdown",
      "metadata": {
        "colab_type": "text",
        "id": "x4j2f2dH94dU"
      },
      "source": [
        "# *Logistic Regression Classifier*\n",
        "it follows (one vs rest) approach when dealing with multi class classification"
      ]
    },
    {
      "cell_type": "code",
      "execution_count": 20,
      "metadata": {
        "colab": {
          "base_uri": "https://localhost:8080/",
          "height": 50
        },
        "colab_type": "code",
        "id": "-ZBVt3BlmE7c",
        "outputId": "173b9591-29c3-4ad4-9139-1bcf2102b9e6"
      },
      "outputs": [
        {
          "name": "stdout",
          "output_type": "stream",
          "text": [
            "Accuracy (LR) : 89.25%\n",
            "Cross Validation Accuracy (LR): 89.19%\n"
          ]
        }
      ],
      "source": [
        "lr = LogisticRegression()\n",
        "lr = lr.fit(X, Y)\n",
        "# prediction of labels for the test data\n",
        "lr_pred = lr.predict(x_test)\n",
        "acc_lr = round(Decimal(accuracy_score(y_test, lr_pred) * 100), 2)\n",
        "accuracy_list.append(acc_lr)\n",
        "model_list.append(\"LR\")\n",
        "print(f\"Accuracy (LR) : {acc_lr}%\")\n",
        "\n",
        "# Cross Validation Accuracy LR with 5 different splits\n",
        "scores_lr = cross_val_score(lr, X, Y, cv=5)\n",
        "# mean of cross val score (accuracy)\n",
        "score = round(Decimal(scores_lr.mean() * 100), 2)\n",
        "cross_accuracy_list.append(score)\n",
        "print(f\"Cross Validation Accuracy (LR): {score}%\")"
      ]
    },
    {
      "cell_type": "markdown",
      "metadata": {
        "colab_type": "text",
        "id": "Zbz-aL_Q9_U0"
      },
      "source": [
        "*Support Vector Machine Classifier*\n",
        "\n",
        "SVM follows OvO (One Vs One) approach when dealing with multi class classification.In our classification problem we have 261 classes (equal to diseases)."
      ]
    },
    {
      "cell_type": "code",
      "execution_count": 22,
      "metadata": {
        "colab": {
          "base_uri": "https://localhost:8080/",
          "height": 50
        },
        "colab_type": "code",
        "id": "JDSJc0RlmG-0",
        "outputId": "ee7dc68c-51a3-4630-ed30-9a421fb43ba4"
      },
      "outputs": [
        {
          "name": "stdout",
          "output_type": "stream",
          "text": [
            "Accuracy (SVM) : 88.80%\n",
            "Cross Validation Accuracy (SVM): 88.62%\n"
          ]
        }
      ],
      "source": [
        "svm = SVC()\n",
        "svm = svm.fit(X, Y)\n",
        "# prediction of labels for the test data\n",
        "svm_pred = svm.predict(x_test)\n",
        "acc_svm = round(Decimal(accuracy_score(y_test, svm_pred) * 100), 2)\n",
        "accuracy_list.append(acc_svm)\n",
        "model_list.append(\"SVM\")\n",
        "print(f\"Accuracy (SVM) : {acc_svm}%\")\n",
        "\n",
        "# Cross Validation Accuracy SVM with 5 different splits\n",
        "scores_svm = cross_val_score(svm, X, Y, cv=5)\n",
        "# mean of cross val score (accuracy)\n",
        "score = round(Decimal(scores_svm.mean() * 100), 2)\n",
        "cross_accuracy_list.append(score)\n",
        "print(f\"Cross Validation Accuracy (SVM): {score}%\")"
      ]
    },
    {
      "cell_type": "markdown",
      "metadata": {
        "colab_type": "text",
        "id": "uUYxizhO-FtC"
      },
      "source": [
        "*Decision Tree Classifier*"
      ]
    },
    {
      "cell_type": "code",
      "execution_count": 23,
      "metadata": {
        "colab": {
          "base_uri": "https://localhost:8080/",
          "height": 50
        },
        "colab_type": "code",
        "id": "CwFDYYBQmKAc",
        "outputId": "fca7c327-b54d-4ffb-9eb8-4711372773cb"
      },
      "outputs": [
        {
          "name": "stdout",
          "output_type": "stream",
          "text": [
            "Accuracy (DT) : 90.16%\n",
            "Cross Validation Accuracy (DT): 83.57%\n"
          ]
        }
      ],
      "source": [
        "dt = DecisionTreeClassifier()\n",
        "dt = dt.fit(X, Y)\n",
        "# prediction of labels for the test data\n",
        "dt_pred = dt.predict(x_test)\n",
        "acc_dt = round(Decimal(accuracy_score(y_test, dt_pred) * 100), 2)\n",
        "accuracy_list.append(acc_dt)\n",
        "model_list.append(\"DT\")\n",
        "print(f\"Accuracy (DT) : {acc_dt}%\")\n",
        "\n",
        "# Cross Validation Accuracy DT with 5 different splits\n",
        "scores_dt = cross_val_score(dt, X, Y, cv=5)\n",
        "# mean of cross val score (accuracy)\n",
        "score = round(Decimal(scores_dt.mean() * 100), 2)\n",
        "cross_accuracy_list.append(score)\n",
        "print(f\"Cross Validation Accuracy (DT): {score}%\")"
      ]
    },
    {
      "cell_type": "markdown",
      "metadata": {
        "colab_type": "text",
        "id": "x0deyBf7-QSD"
      },
      "source": [
        "*Accuracy Comparison Plot for all the classifiers*"
      ]
    },
    {
      "cell_type": "code",
      "execution_count": 24,
      "metadata": {
        "colab": {
          "base_uri": "https://localhost:8080/",
          "height": 647
        },
        "colab_type": "code",
        "id": "c_4WiPo4mR2M",
        "outputId": "e233f609-b457-47cc-cdaa-9905da4a9355"
      },
      "outputs": [
        {
          "data": {
            "image/png": "[encoded data removed]",
            "text/plain": [
              "<Figure size 500x500 with 1 Axes>"
            ]
          },
          "metadata": {},
          "output_type": "display_data"
        }
      ],
      "source": [
        "import matplotlib.pyplot as plt\n",
        "\n",
        "plt.figure(figsize=(5, 5))\n",
        "plt.title(\"Model Vs Accuracy\")\n",
        "plt.xlabel('Classifier')\n",
        "plt.ylabel('Accuracy (%)')\n",
        "plt.bar(model_list, accuracy_list, color='green')\n",
        "for i, j in enumerate(accuracy_list):\n",
        "    plt.text(float(i)-0.15, float(j)+0.7, str(j), color='blue')\n",
        "plt.show()\n"
      ]
    },
    {
      "cell_type": "markdown",
      "metadata": {
        "colab_type": "text",
        "id": "ja6vRv2M-l_s"
      },
      "source": [
        "*Cross Validation Accuracy Comparison Plot for all the classifiers*"
      ]
    },
    {
      "cell_type": "code",
      "execution_count": 25,
      "metadata": {
        "colab": {
          "base_uri": "https://localhost:8080/",
          "height": 647
        },
        "colab_type": "code",
        "id": "8WmaR3XBzT0e",
        "outputId": "77a1a225-6af3-4088-8414-c29ae6a621da"
      },
      "outputs": [
        {
          "data": {
            "image/png": "[encoded data removed]",
            "text/plain": [
              "<Figure size 500x500 with 1 Axes>"
            ]
          },
          "metadata": {},
          "output_type": "display_data"
        }
      ],
      "source": [
        "plt.style.use('default')  # Use default style\n",
        "fig = plt.figure(figsize=(5, 5))\n",
        "ax = fig.add_subplot()\n",
        "plt.title(\"Model Vs Cross Validation Accuracy\")\n",
        "plt.xlabel('Classifier')\n",
        "plt.ylabel('Accuracy (%)')\n",
        "plt.bar(model_list, cross_accuracy_list, color='green')\n",
        "for i, j in enumerate(cross_accuracy_list):\n",
        "    ax.text(float(i)-0.15, float(j)+0.7, str(j), color='blue')\n",
        "plt.show()\n"
      ]
    }
  ],
  "metadata": {
    "accelerator": "GPU",
    "colab": {
      "collapsed_sections": [],
      "name": "Model_latest.ipynb",
      "provenance": []
    },
    "kernelspec": {
      "display_name": "Python 3",
      "name": "python3"
    },
    "language_info": {
      "codemirror_mode": {
        "name": "ipython",
        "version": 3
      },
      "file_extension": ".py",
      "mimetype": "text/x-python",
      "name": "python",
      "nbconvert_exporter": "python",
      "pygments_lexer": "ipython3",
      "version": "3.10.12"
    }
  },
  "nbformat": 4,
  "nbformat_minor": 0
}
